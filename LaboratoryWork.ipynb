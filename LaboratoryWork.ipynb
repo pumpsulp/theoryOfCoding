{
 "cells": [
  {
   "metadata": {},
   "cell_type": "markdown",
   "source": "# Лабораторная работа 1",
   "id": "ee8f1776c34b2357"
  },
  {
   "cell_type": "code",
   "id": "initial_id",
   "metadata": {
    "collapsed": true,
    "ExecuteTime": {
     "end_time": "2024-09-20T09:01:23.414042Z",
     "start_time": "2024-09-20T09:01:23.411043Z"
    }
   },
   "source": [
    "from dataclasses import dataclass, field\n",
    "\n",
    "import numpy as np"
   ],
   "outputs": [],
   "execution_count": 10
  },
  {
   "metadata": {
    "ExecuteTime": {
     "end_time": "2024-09-20T10:32:20.292724Z",
     "start_time": "2024-09-20T10:32:20.277019Z"
    }
   },
   "cell_type": "code",
   "source": [
    "@dataclass\n",
    "class LinearCode:\n",
    "    G: np.ndarray = field(init=True)\n",
    "    k: int = field(init=False, default=None)\n",
    "    n: int = field(init=False, default=None)\n",
    "    G_REF: np.ndarray = field(init=False, default=None)\n",
    "    G_RREF: np.ndarray = field(init=False, default=None)\n",
    "    X: np.ndarray = field(init=False, default=None)\n",
    "    I: np.ndarray = field(init=False, default=None)\n",
    "    \n",
    "    def __post_init__(self):\n",
    "        self.I = np.eye(len(self.G))\n",
    "    \n",
    "    def REF(self):  #1.1\n",
    "        \"\"\" Приведение матрицы к ступенчатому виду (REF) \"\"\"\n",
    "        A = self.G.copy()\n",
    "        rows, cols = A.shape\n",
    "        lead = 0\n",
    "        for r in range(rows):\n",
    "            if lead >= cols:\n",
    "                return A\n",
    "            i = r\n",
    "            while A[i, lead] == 0:\n",
    "                i += 1\n",
    "                if i == rows:\n",
    "                    i = r\n",
    "                    lead += 1\n",
    "                    if lead == cols:\n",
    "                        return A\n",
    "            A[[i, r]] = A[[r, i]] \n",
    "            A[r] = A[r] % 2  \n",
    "            for i in range(r + 1, rows):\n",
    "                if A[i, lead] != 0:\n",
    "                    A[i] = (A[i] + A[r]) % 2  \n",
    "            lead += 1\n",
    "        return A\n",
    "    \n",
    "    def RREF(self):  #1.2\n",
    "        \"\"\" Приведение матрицы к приведённому ступенчатому виду (RREF) \"\"\"\n",
    "        A = self.REF()\n",
    "        rows, cols = A.shape\n",
    "        for r in range(rows - 1, -1, -1):\n",
    "            lead = np.argmax(A[r] != 0)\n",
    "            if A[r, lead] != 0:\n",
    "                for i in range(r):\n",
    "                    A[i] = (A[i] - A[i, lead] * A[r]) % 2\n",
    "        return A\n",
    "    \n",
    "    def get_n_k(self):  # 1.3.2\n",
    "        \"\"\"Возвращает размеры матрицы без учета полностью нулевых строк\"\"\"\n",
    "        if self.G_REF is None:\n",
    "            self.G_REF = self.REF()\n",
    "        \n",
    "        if not (self.k or self.n):\n",
    "            self.k = np.sum(np.any(self.G_REF != 0, axis=1))\n",
    "            self.n = self.G_REF.shape[1]\n",
    "        \n",
    "        return self.k, self.n\n",
    "    \n",
    "    def generate_H_matrix(self):  # 1.3.3\n",
    "        \"\"\" Формирование проверочной матрицы H \"\"\"\n",
    "        self.G_RREF = self.RREF()\n",
    "        \n",
    "        lead_columns = self.get_lead_columns()\n",
    "        \n",
    "        k, n = self.get_n_k()\n",
    "        non_lead_columns = [i for i in range(self.n) if i not in lead_columns]\n",
    "        X = self.G_RREF[:, non_lead_columns]\n",
    "        \n",
    "        I = np.eye(len(non_lead_columns), dtype=int)\n",
    "        H = np.zeros((n, len(non_lead_columns)), dtype=int)\n",
    "        x_index = 0\n",
    "        i_index = 0\n",
    "        \n",
    "        for row in range(n):\n",
    "            if row in lead_columns:\n",
    "                H[row, :] = X[x_index, :]\n",
    "                x_index += 1\n",
    "            else:\n",
    "                H[row, :] = I[i_index, :]\n",
    "                i_index += 1\n",
    "        \n",
    "        return H\n",
    "    \n",
    "    def get_lead_columns(self):\n",
    "        \"\"\" Получение индексов ведущих столбцов \"\"\"\n",
    "        if self.G_RREF is None:\n",
    "            self.G_RREF = self.RREF()\n",
    "        lead_columns = []\n",
    "        for row in self.G_RREF:\n",
    "            lead_col = np.argmax(row != 0)\n",
    "            if row[lead_col] == 1:\n",
    "                lead_columns.append(lead_col)\n",
    "        return lead_columns\n",
    "    \n",
    "    def generate_codewords(self):\n",
    "        \"\"\" Генерация всех кодовых слов \"\"\"\n",
    "        codewords = []\n",
    "        self.get_n_k()\n",
    "        for i in range(2 ** self.k):\n",
    "            u = np.array(list(np.binary_repr(i, self.k)), dtype=int)\n",
    "            v = (u @ self.G) % 2\n",
    "            codewords.append(v)\n",
    "        return np.array(codewords)\n",
    "    \n",
    "    def introduce_error(self, codeword, num_errors):\n",
    "        \"\"\" Внесение ошибки в кодовое слово \"\"\"\n",
    "        error = np.zeros_like(codeword)\n",
    "        indices = np.random.choice(len(codeword), num_errors, replace=False)\n",
    "        error[indices] = 1\n",
    "        return (codeword + error) % 2\n",
    "    \n",
    "    def check_error(self, codeword_with_error):\n",
    "        \"\"\" Проверка кодового слова с ошибкой на проверочной матрице H \"\"\"\n",
    "        H = self.generate_H_matrix()\n",
    "        syndrome = (codeword_with_error @ H) % 2\n",
    "        return syndrome\n",
    "    \n",
    "    def compute_distance(self):\n",
    "        \"\"\" Вычисление кодового расстояния \"\"\"\n",
    "        codewords = self.generate_codewords()\n",
    "        min_weight = np.inf\n",
    "        for word in codewords:\n",
    "            weight = np.sum(word)\n",
    "            if 0 < weight < min_weight:\n",
    "                min_weight = weight\n",
    "        return min_weight\n",
    "    \n",
    "    def test_generate_H_matrix(self):\n",
    "        \"\"\" Тест генерации проверочной матрицы H \"\"\"\n",
    "        H = self.generate_H_matrix()\n",
    "        print(\"H matrix:\\n\", H)\n",
    "    \n",
    "    def test_codewords_and_error(self):\n",
    "        \"\"\" Тест генерации кодовых слов и работы с ошибками \"\"\"\n",
    "        codewords = self.generate_codewords()\n",
    "        print(\"Codewords:\\n\", codewords)\n",
    "        \n",
    "        # Внесение ошибки\n",
    "        codeword = codewords[0]\n",
    "        print(\"Original codeword:\\n\", codeword)\n",
    "        \n",
    "        codeword_with_error = self.introduce_error(codeword, 2)\n",
    "        print(\"Codeword with error:\\n\", codeword_with_error)\n",
    "        \n",
    "        # Проверка ошибки\n",
    "        syndrome = self.check_error(codeword_with_error)\n",
    "        print(\"Syndrome:\\n\", syndrome)\n",
    "    \n",
    "    def test_distance(self):\n",
    "        \"\"\" Тест вычисления кодового расстояния \"\"\"\n",
    "        distance = self.compute_distance()\n",
    "        print(f\"Code distance: {distance}\")\n",
    "    \n",
    "    def find_error_t_plus_1(self, codeword):\n",
    "        \"\"\" Найти ошибку кратности t+1, которая не может быть обнаружена \"\"\"\n",
    "        H = self.generate_H_matrix()\n",
    "        num_errors = H.shape[1] - 1\n",
    "        error = self.introduce_error(codeword, num_errors)\n",
    "        syndrome = (error @ H.T) % 2\n",
    "        return error, syndrome\n",
    "    \n",
    "    def test_error_t_plus_1(self, codeword):\n",
    "        \"\"\" Тест ошибки кратности t+1, которая не может быть обнаружена \"\"\"\n",
    "        error, syndrome = self.find_error_t_plus_1(codeword)\n",
    "        print(f\"Error t+1:\\n{error}\")\n",
    "        print(f\"Syndrome:\\n{syndrome}\")"
   ],
   "id": "eef293a64ca471dd",
   "outputs": [],
   "execution_count": 143
  },
  {
   "metadata": {
    "ExecuteTime": {
     "end_time": "2024-09-20T10:32:20.416148Z",
     "start_time": "2024-09-20T10:32:20.412019Z"
    }
   },
   "cell_type": "code",
   "source": [
    "S = np.array([\n",
    "    [1, 0, 1, 1, 0, 0, 0, 1, 0, 0, 1],\n",
    "    [0, 0, 0, 1, 1, 1, 0, 1, 0, 1, 0],\n",
    "    [0, 0, 0, 0, 1, 0, 0, 1, 0, 0, 1],\n",
    "    [1, 0, 1, 0, 1, 1, 1, 0, 0, 0, 1],\n",
    "    [0, 0, 0, 0, 1, 0, 0, 1, 1, 1, 0],\n",
    "    [1, 0, 1, 1, 1, 0, 0, 0, 0, 0, 0]\n",
    "])\n",
    "\n",
    "code = LinearCode(S)\n",
    "print(S)"
   ],
   "id": "39bce7c102553a03",
   "outputs": [
    {
     "name": "stdout",
     "output_type": "stream",
     "text": [
      "[[1 0 1 1 0 0 0 1 0 0 1]\n",
      " [0 0 0 1 1 1 0 1 0 1 0]\n",
      " [0 0 0 0 1 0 0 1 0 0 1]\n",
      " [1 0 1 0 1 1 1 0 0 0 1]\n",
      " [0 0 0 0 1 0 0 1 1 1 0]\n",
      " [1 0 1 1 1 0 0 0 0 0 0]]\n"
     ]
    }
   ],
   "execution_count": 144
  },
  {
   "metadata": {},
   "cell_type": "markdown",
   "source": [
    "1.3.1 На основе входной матрицы сформировать порождающую\n",
    "матрицу в ступенчатом виде.\n"
   ],
   "id": "c4d24c2333cc46ac"
  },
  {
   "metadata": {
    "ExecuteTime": {
     "end_time": "2024-09-20T10:32:20.687426Z",
     "start_time": "2024-09-20T10:32:20.684018Z"
    }
   },
   "cell_type": "code",
   "source": [
    "REF = code.REF()\n",
    "print(REF)"
   ],
   "id": "b6c2765e7b289a77",
   "outputs": [
    {
     "name": "stdout",
     "output_type": "stream",
     "text": [
      "[[1 0 1 1 0 0 0 1 0 0 1]\n",
      " [0 0 0 1 1 1 0 1 0 1 0]\n",
      " [0 0 0 0 1 0 0 1 0 0 1]\n",
      " [0 0 0 0 0 0 1 0 0 1 0]\n",
      " [0 0 0 0 0 0 0 0 1 1 1]\n",
      " [0 0 0 0 0 0 0 0 0 0 0]]\n"
     ]
    }
   ],
   "execution_count": 145
  },
  {
   "metadata": {},
   "cell_type": "markdown",
   "source": [
    "1.3.2 Задать n равное числу столбцов и k равное числу строк\n",
    "полученной матрицы (без учёта полностью нулевых строк)."
   ],
   "id": "84ab47b59a641a93"
  },
  {
   "metadata": {
    "ExecuteTime": {
     "end_time": "2024-09-20T10:32:20.962351Z",
     "start_time": "2024-09-20T10:32:20.958901Z"
    }
   },
   "cell_type": "code",
   "source": [
    "print(f'{REF}\\n')\n",
    "k, n = code.get_n_k()\n",
    "print(f\"k: {k}, n: {n}\")"
   ],
   "id": "3ab546b624ee1b16",
   "outputs": [
    {
     "name": "stdout",
     "output_type": "stream",
     "text": [
      "[[1 0 1 1 0 0 0 1 0 0 1]\n",
      " [0 0 0 1 1 1 0 1 0 1 0]\n",
      " [0 0 0 0 1 0 0 1 0 0 1]\n",
      " [0 0 0 0 0 0 1 0 0 1 0]\n",
      " [0 0 0 0 0 0 0 0 1 1 1]\n",
      " [0 0 0 0 0 0 0 0 0 0 0]]\n",
      "\n",
      "k: 5, n: 11\n"
     ]
    }
   ],
   "execution_count": 146
  },
  {
   "metadata": {},
   "cell_type": "markdown",
   "source": "1.3.3 Сформировать проверочную матрицу на основе порождающей.",
   "id": "d5e4514aedfc6c25"
  },
  {
   "metadata": {
    "ExecuteTime": {
     "end_time": "2024-09-20T10:32:21.248509Z",
     "start_time": "2024-09-20T10:32:21.244022Z"
    }
   },
   "cell_type": "code",
   "source": [
    "G = np.array([\n",
    "    [1, 0, 1, 1, 0, 0, 0, 1, 0, 0, 1],\n",
    "    [0, 0, 0, 1, 1, 1, 0, 1, 0, 1, 0],\n",
    "    [0, 0, 0, 0, 1, 0, 0, 1, 0, 0, 1],\n",
    "    [0, 0, 0, 0, 0, 0, 1, 0, 0, 1, 0],\n",
    "    [0, 0, 0, 0, 0, 0, 0, 0, 1, 1, 1],\n",
    "])\n",
    "code = LinearCode(G)\n",
    "print(G)"
   ],
   "id": "9b10a543f2ae207a",
   "outputs": [
    {
     "name": "stdout",
     "output_type": "stream",
     "text": [
      "[[1 0 1 1 0 0 0 1 0 0 1]\n",
      " [0 0 0 1 1 1 0 1 0 1 0]\n",
      " [0 0 0 0 1 0 0 1 0 0 1]\n",
      " [0 0 0 0 0 0 1 0 0 1 0]\n",
      " [0 0 0 0 0 0 0 0 1 1 1]]\n"
     ]
    }
   ],
   "execution_count": 147
  },
  {
   "metadata": {
    "ExecuteTime": {
     "end_time": "2024-09-20T10:32:21.412497Z",
     "start_time": "2024-09-20T10:32:21.409009Z"
    }
   },
   "cell_type": "code",
   "source": [
    "H = code.generate_H_matrix()\n",
    "print(H)"
   ],
   "id": "3a61ecd8c5de23d0",
   "outputs": [
    {
     "name": "stdout",
     "output_type": "stream",
     "text": [
      "[[0 1 1 1 1 0]\n",
      " [1 0 0 0 0 0]\n",
      " [0 1 0 0 0 0]\n",
      " [0 0 1 0 1 1]\n",
      " [0 0 0 1 0 1]\n",
      " [0 0 1 0 0 0]\n",
      " [0 0 0 0 1 0]\n",
      " [0 0 0 1 0 0]\n",
      " [0 0 0 0 1 1]\n",
      " [0 0 0 0 1 0]\n",
      " [0 0 0 0 0 1]]\n"
     ]
    }
   ],
   "execution_count": 148
  },
  {
   "metadata": {},
   "cell_type": "markdown",
   "source": [
    "Шаг 3. Сформировать сокращённую матрицу X, удалив ведущие\n",
    "столбцы матрицы G"
   ],
   "id": "50ab165c430af8ec"
  },
  {
   "metadata": {
    "ExecuteTime": {
     "end_time": "2024-09-20T10:32:21.737543Z",
     "start_time": "2024-09-20T10:32:21.733896Z"
    }
   },
   "cell_type": "code",
   "source": [
    "H = code.generate_H_matrix()\n",
    "print(H)"
   ],
   "id": "90572f8e671a3629",
   "outputs": [
    {
     "name": "stdout",
     "output_type": "stream",
     "text": [
      "[[0 1 1 1 1 0]\n",
      " [1 0 0 0 0 0]\n",
      " [0 1 0 0 0 0]\n",
      " [0 0 1 0 1 1]\n",
      " [0 0 0 1 0 1]\n",
      " [0 0 1 0 0 0]\n",
      " [0 0 0 0 1 0]\n",
      " [0 0 0 1 0 0]\n",
      " [0 0 0 0 1 1]\n",
      " [0 0 0 0 1 0]\n",
      " [0 0 0 0 0 1]]\n"
     ]
    }
   ],
   "execution_count": 149
  },
  {
   "metadata": {},
   "cell_type": "markdown",
   "source": [
    "1.4. Сформировать все кодовые слова длины n двумя способами.\n",
    "\n",
    "1.4.1 Сложить все слова из порождающего множества, оставить\n",
    "неповторяющиеся.\n",
    "\n",
    "1.4.2 Взять все двоичные слова длины k, умножить каждое на G."
   ],
   "id": "48281c4d257aa243"
  },
  {
   "metadata": {
    "ExecuteTime": {
     "end_time": "2024-09-20T10:32:22.156937Z",
     "start_time": "2024-09-20T10:32:22.152900Z"
    }
   },
   "cell_type": "code",
   "source": [
    "G = np.array([\n",
    "    [1, 0, 1, 1, 0, 0, 0, 1, 0, 0, 1],\n",
    "    [0, 0, 0, 1, 1, 1, 0, 1, 0, 1, 0],\n",
    "    [0, 0, 0, 0, 1, 0, 0, 1, 0, 0, 1],\n",
    "    [0, 0, 0, 0, 0, 0, 1, 0, 0, 1, 0],\n",
    "    [0, 0, 0, 0, 0, 0, 0, 0, 1, 1, 1],\n",
    "])\n",
    "code = LinearCode(G)"
   ],
   "id": "b7f9af1fd6ffbd38",
   "outputs": [],
   "execution_count": 150
  },
  {
   "metadata": {
    "ExecuteTime": {
     "end_time": "2024-09-20T10:32:22.357102Z",
     "start_time": "2024-09-20T10:32:22.351017Z"
    }
   },
   "cell_type": "code",
   "source": [
    " # Тест для генерации кодовых слов и работы с ошибками\n",
    "code.test_codewords_and_error()\n",
    "    \n",
    "# Тест для вычисления кодового расстояния\n",
    "code.test_distance()\n",
    "    \n",
    "# Тест ошибки кратности t+1\n",
    "codeword = [1, 0, 1, 1, 0, 1]\n",
    "code.test_error_t_plus_1(codeword)"
   ],
   "id": "65189030e1329a52",
   "outputs": [
    {
     "name": "stdout",
     "output_type": "stream",
     "text": [
      "Codewords:\n",
      " [[0 0 0 0 0 0 0 0 0 0 0]\n",
      " [0 0 0 0 0 0 0 0 1 1 1]\n",
      " [0 0 0 0 0 0 1 0 0 1 0]\n",
      " [0 0 0 0 0 0 1 0 1 0 1]\n",
      " [0 0 0 0 1 0 0 1 0 0 1]\n",
      " [0 0 0 0 1 0 0 1 1 1 0]\n",
      " [0 0 0 0 1 0 1 1 0 1 1]\n",
      " [0 0 0 0 1 0 1 1 1 0 0]\n",
      " [0 0 0 1 1 1 0 1 0 1 0]\n",
      " [0 0 0 1 1 1 0 1 1 0 1]\n",
      " [0 0 0 1 1 1 1 1 0 0 0]\n",
      " [0 0 0 1 1 1 1 1 1 1 1]\n",
      " [0 0 0 1 0 1 0 0 0 1 1]\n",
      " [0 0 0 1 0 1 0 0 1 0 0]\n",
      " [0 0 0 1 0 1 1 0 0 0 1]\n",
      " [0 0 0 1 0 1 1 0 1 1 0]\n",
      " [1 0 1 1 0 0 0 1 0 0 1]\n",
      " [1 0 1 1 0 0 0 1 1 1 0]\n",
      " [1 0 1 1 0 0 1 1 0 1 1]\n",
      " [1 0 1 1 0 0 1 1 1 0 0]\n",
      " [1 0 1 1 1 0 0 0 0 0 0]\n",
      " [1 0 1 1 1 0 0 0 1 1 1]\n",
      " [1 0 1 1 1 0 1 0 0 1 0]\n",
      " [1 0 1 1 1 0 1 0 1 0 1]\n",
      " [1 0 1 0 1 1 0 0 0 1 1]\n",
      " [1 0 1 0 1 1 0 0 1 0 0]\n",
      " [1 0 1 0 1 1 1 0 0 0 1]\n",
      " [1 0 1 0 1 1 1 0 1 1 0]\n",
      " [1 0 1 0 0 1 0 1 0 1 0]\n",
      " [1 0 1 0 0 1 0 1 1 0 1]\n",
      " [1 0 1 0 0 1 1 1 0 0 0]\n",
      " [1 0 1 0 0 1 1 1 1 1 1]]\n",
      "Original codeword:\n",
      " [0 0 0 0 0 0 0 0 0 0 0]\n",
      "Codeword with error:\n",
      " [0 1 0 0 0 0 0 0 0 0 1]\n",
      "Syndrome:\n",
      " [1 0 0 0 0 1]\n",
      "Code distance: 2\n",
      "Error t+1:\n",
      "[0 1 0 0 1 1]\n",
      "Syndrome:\n",
      "[0 0 1 0 1 0 1 0 0 1 1]\n"
     ]
    }
   ],
   "execution_count": 151
  }
 ],
 "metadata": {
  "kernelspec": {
   "display_name": "Python 3",
   "language": "python",
   "name": "python3"
  },
  "language_info": {
   "codemirror_mode": {
    "name": "ipython",
    "version": 2
   },
   "file_extension": ".py",
   "mimetype": "text/x-python",
   "name": "python",
   "nbconvert_exporter": "python",
   "pygments_lexer": "ipython2",
   "version": "2.7.6"
  }
 },
 "nbformat": 4,
 "nbformat_minor": 5
}
